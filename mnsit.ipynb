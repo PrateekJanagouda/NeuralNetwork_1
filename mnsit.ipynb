{
 "cells": [
  {
   "cell_type": "markdown",
   "metadata": {},
   "source": [
    "Install all the required libraries : \n",
    "\n",
    "        1. Tensorflow\n",
    "        2. matplotlib\n",
    "        3. Numpy"
   ]
  },
  {
   "cell_type": "code",
   "execution_count": null,
   "metadata": {},
   "outputs": [],
   "source": [
    "%pip install tensorflow numpy matplotlib"
   ]
  }
 ],
 "metadata": {
  "language_info": {
   "name": "python"
  }
 },
 "nbformat": 4,
 "nbformat_minor": 2
}
